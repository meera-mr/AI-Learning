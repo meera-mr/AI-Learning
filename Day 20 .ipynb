{
 "cells": [
  {
   "cell_type": "code",
   "execution_count": 1,
   "id": "785e7493",
   "metadata": {},
   "outputs": [
    {
     "name": "stdout",
     "output_type": "stream",
     "text": [
      "1\n",
      "2\n",
      "False\n"
     ]
    }
   ],
   "source": [
    "class Queue:\n",
    "    def __init__(self):\n",
    "        self.stack1 = []\n",
    "        self.stack2 = []\n",
    "\n",
    "    def enqueue(self, item):\n",
    "        self.stack1.append(item)\n",
    "\n",
    "    def dequeue(self):\n",
    "        if not self.stack2:\n",
    "            while self.stack1:\n",
    "                self.stack2.append(self.stack1.pop())\n",
    "        if not self.stack2:\n",
    "            raise IndexError(\"dequeue from empty queue\")\n",
    "        return self.stack2.pop()\n",
    "\n",
    "    def peek(self):\n",
    "        if not self.stack2:\n",
    "            while self.stack1:\n",
    "                self.stack2.append(self.stack1.pop())\n",
    "        if not self.stack2:\n",
    "            raise IndexError(\"peek from empty queue\")\n",
    "        return self.stack2[-1]\n",
    "\n",
    "    def is_empty(self):\n",
    "        return not self.stack1 and not self.stack2\n",
    "\n",
    "\n",
    "\n",
    "queue = Queue()\n",
    "queue.enqueue(1)\n",
    "queue.enqueue(2)\n",
    "queue.enqueue(3)\n",
    "\n",
    "print(queue.dequeue())  \n",
    "print(queue.peek())     \n",
    "print(queue.is_empty()) \n"
   ]
  },
  {
   "cell_type": "code",
   "execution_count": 5,
   "id": "3c6d949e",
   "metadata": {},
   "outputs": [
    {
     "name": "stdout",
     "output_type": "stream",
     "text": [
      "arjun added to the queue.\n",
      "monkuttan added to the queue.\n",
      "arjun\n",
      "monkuttan\n",
      "No customers \n"
     ]
    }
   ],
   "source": [
    "# Q1. Bank Token System (Queue Problem)\n",
    "# Scenario:\n",
    "# You are managing a bank counter.\n",
    "# Each customer takes a token and waits in line.\n",
    "# The bank serves customers in the order they arrive.\n",
    "# 🔧 Task:\n",
    "# Implement a BankQueue class with:\n",
    "# •\tadd_customer(name)\n",
    "# •\tserve_customer() – returns the name of the next customer\n",
    "# •\tis_empty()\n",
    "# Hint: Use a queue (FIFO) to manage customers.\n",
    "\n",
    "class bank:\n",
    "    def __init__(self):\n",
    "        self.queue = []\n",
    "\n",
    "    def add_customer(self, name):\n",
    "        self.queue.append(name)\n",
    "        print(f\"{name} added to the queue.\")\n",
    "\n",
    "    def serve_customer(self):\n",
    "        if self.is_empty():\n",
    "            return \"No customers \"\n",
    "        return self.queue.pop(0)\n",
    "\n",
    "    def is_empty(self):\n",
    "        return len(self.queue) == 0\n",
    "\n",
    "b = bank()\n",
    "b.add_customer(\"arjun\")\n",
    "b.add_customer(\"monkuttan\")\n",
    "\n",
    "print( b.serve_customer()) \n",
    "print( b.serve_customer()) \n",
    "print( b.serve_customer())"
   ]
  },
  {
   "cell_type": "code",
   "execution_count": 3,
   "id": "fba89986",
   "metadata": {},
   "outputs": [
    {
     "name": "stdout",
     "output_type": "stream",
     "text": [
      "16\n"
     ]
    }
   ],
   "source": [
    "# Q2. Evaluate Postfix Expression (Stack)\n",
    "# Scenario:\n",
    "# You are building a calculator that evaluates expressions like:\n",
    "# \"5 3 + 2 *\" → (5 + 3) * 2 = 16\n",
    "# Task:\n",
    "# Write a function evaluate_postfix(expr: str) that returns the result.\n",
    "# Example:\n",
    "# Input: \"5 3 + 2 *\"\n",
    "# Output: 16\n",
    "# Hint: Use a stack. Push numbers, pop 2 on operator, compute and push result.\n",
    "\n",
    "def evaluate_postfix(expr: str):\n",
    "    stack = []\n",
    "    tokens = expr.split()\n",
    "\n",
    "    for token in tokens:\n",
    "        if token.isdigit():\n",
    "            stack.append(int(token))\n",
    "        else:\n",
    "            b = stack.pop()\n",
    "            a = stack.pop()\n",
    "            \n",
    "            if token == '+':\n",
    "                result = a + b\n",
    "            elif token == '-':\n",
    "                result = a - b\n",
    "            elif token == '*':\n",
    "                result = a * b\n",
    "            elif token == '/':\n",
    "                result = a // b \n",
    "            else:\n",
    "                return \"Invalid operator\"\n",
    "            \n",
    "            stack.append(result) \n",
    "\n",
    "    return stack.pop() if stack else \"Invalid expression\"\n",
    "\n",
    "print(evaluate_postfix(\"5 3 + 2 *\"))\n"
   ]
  },
  {
   "cell_type": "code",
   "execution_count": null,
   "id": "facac8e2",
   "metadata": {},
   "outputs": [],
   "source": [
    "def "
   ]
  }
 ],
 "metadata": {
  "kernelspec": {
   "display_name": "Python 3",
   "language": "python",
   "name": "python3"
  },
  "language_info": {
   "codemirror_mode": {
    "name": "ipython",
    "version": 3
   },
   "file_extension": ".py",
   "mimetype": "text/x-python",
   "name": "python",
   "nbconvert_exporter": "python",
   "pygments_lexer": "ipython3",
   "version": "3.13.5"
  }
 },
 "nbformat": 4,
 "nbformat_minor": 5
}
